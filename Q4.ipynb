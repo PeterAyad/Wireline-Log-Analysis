{
 "cells": [
  {
   "attachments": {},
   "cell_type": "markdown",
   "metadata": {},
   "source": [
    "# Q4: The means of gamma rays and neutron porosity are significantly different in shale and sandstone in the same well\n",
    "    a. Use 2 sample t-test to test significance of the hypothesis\n",
    "    b. run the test on another dataset\n",
    "\n",
    "**Purpose of the question**: find out if neutron porosity and gamma rays are the main features of classifying the lithology as believed"
   ]
  },
  {
   "cell_type": "code",
   "execution_count": 1,
   "metadata": {},
   "outputs": [],
   "source": [
    "import lasio\n",
    "import pandas as pd\n",
    "import missingno as msno\n",
    "import seaborn as sns\n",
    "import matplotlib.pyplot as plt\n",
    "import numpy as np\n",
    "from utils import *\n",
    "import warnings\n",
    "import os\n",
    "from scipy.stats import ttest_ind\n",
    "\n",
    "warnings.filterwarnings(\"ignore\")\n"
   ]
  },
  {
   "cell_type": "code",
   "execution_count": 2,
   "metadata": {},
   "outputs": [],
   "source": [
    "def remove_outliers(shale, sandstone):\n",
    "    sandstone = sandstone[\n",
    "        sandstone[\"Gamma Ray\"].between(\n",
    "            sandstone[\"Gamma Ray\"].quantile(0.25),\n",
    "            sandstone[\"Gamma Ray\"].quantile(0.75),\n",
    "            inclusive=True,\n",
    "        )\n",
    "    ]\n",
    "    shale = shale[\n",
    "        shale[\"Gamma Ray\"].between(\n",
    "            shale[\"Gamma Ray\"].quantile(0.25),\n",
    "            shale[\"Gamma Ray\"].quantile(0.75),\n",
    "            inclusive=True,\n",
    "        )\n",
    "    ]\n",
    "\n",
    "    sandstone = sandstone[\n",
    "        sandstone[\"Neutron Porosity\"].between(\n",
    "            sandstone[\"Neutron Porosity\"].quantile(0.25),\n",
    "            sandstone[\"Neutron Porosity\"].quantile(0.75),\n",
    "            inclusive=True,\n",
    "        )\n",
    "    ]\n",
    "    shale = shale[\n",
    "        shale[\"Neutron Porosity\"].between(\n",
    "            shale[\"Neutron Porosity\"].quantile(0.25),\n",
    "            shale[\"Neutron Porosity\"].quantile(0.75),\n",
    "            inclusive=True,\n",
    "        )\n",
    "    ]\n",
    "    return shale, sandstone"
   ]
  },
  {
   "cell_type": "code",
   "execution_count": 3,
   "metadata": {},
   "outputs": [
    {
     "name": "stdout",
     "output_type": "stream",
     "text": [
      "reject null hypothesis\n",
      "reject null hypothesis\n",
      "reject null hypothesis\n",
      "reject null hypothesis\n",
      "reject null hypothesis\n",
      "reject null hypothesis\n",
      "reject null hypothesis\n",
      "reject null hypothesis\n",
      "reject null hypothesis\n",
      "reject null hypothesis\n",
      "reject null hypothesis\n",
      "reject null hypothesis\n",
      "reject null hypothesis\n",
      "reject null hypothesis\n",
      "reject null hypothesis\n",
      "reject null hypothesis\n",
      "reject null hypothesis\n",
      "reject null hypothesis\n",
      "reject null hypothesis\n",
      "reject null hypothesis\n"
     ]
    }
   ],
   "source": [
    "for f in os.listdir(\"./Data/\"):\n",
    "    if not f.endswith(\".las\"):\n",
    "        continue\n",
    "    df = lasio.read(\"./Data/\" + f).df()\n",
    "    df = df.reset_index()\n",
    "    rename_columns(df)\n",
    "    rename_lithology(df)\n",
    "    df = df[[\"Gamma Ray\", \"Neutron Porosity\", \"LITHOLOGY\"]]\n",
    "    df = df.dropna()\n",
    "\n",
    "    shale = df[df[\"LITHOLOGY\"] == \"Shale\"]\n",
    "    if len(shale) == 0:\n",
    "        continue\n",
    "    sandstone = df[df[\"LITHOLOGY\"] == \"Sandstone\"]\n",
    "    if len(sandstone) == 0:\n",
    "        continue\n",
    "\n",
    "    shale, sandstone = remove_outliers(shale, sandstone)\n",
    "\n",
    "    result = ttest_ind(shale[\"Gamma Ray\"], sandstone[\"Gamma Ray\"], equal_var=False)\n",
    "    if result.pvalue < 0.05:\n",
    "        print(\"reject null hypothesis\")\n",
    "    else:\n",
    "        print(\"cant reject null hypothesis\")\n",
    "\n",
    "    result = ttest_ind(\n",
    "        shale[\"Neutron Porosity\"], sandstone[\"Neutron Porosity\"], equal_var=False\n",
    "    )\n",
    "    if result.pvalue < 0.05:\n",
    "        print(\"reject null hypothesis\")\n",
    "    else:\n",
    "        print(\"cant reject null hypothesis\")"
   ]
  }
 ],
 "metadata": {
  "kernelspec": {
   "display_name": "base",
   "language": "python",
   "name": "python3"
  },
  "language_info": {
   "codemirror_mode": {
    "name": "ipython",
    "version": 3
   },
   "file_extension": ".py",
   "mimetype": "text/x-python",
   "name": "python",
   "nbconvert_exporter": "python",
   "pygments_lexer": "ipython3",
   "version": "3.10.9"
  },
  "orig_nbformat": 4
 },
 "nbformat": 4,
 "nbformat_minor": 2
}
