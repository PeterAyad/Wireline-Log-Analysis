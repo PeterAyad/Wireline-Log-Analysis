{
 "cells": [
  {
   "cell_type": "code",
   "execution_count": 1,
   "metadata": {},
   "outputs": [],
   "source": [
    "import numpy as np\n",
    "import pandas as pd\n",
    "import warnings\n",
    "warnings.filterwarnings('ignore')\n",
    "\n",
    "# Load the df file\n",
    "df = pd.read_csv(\"./Data/labeled_data.csv\", sep=\";\")"
   ]
  },
  {
   "cell_type": "code",
   "execution_count": 2,
   "metadata": {},
   "outputs": [],
   "source": [
    "#  pick distinct well names\n",
    "well_names = df[\"WELL\"].unique()"
   ]
  },
  {
   "cell_type": "code",
   "execution_count": 3,
   "metadata": {},
   "outputs": [],
   "source": [
    "columns = ['DEPTH_MD', 'RDEP', 'RMED', 'RXO','NPHI','RHOB','DRHO','SP']\n",
    "\n",
    "best_well = None\n",
    "best_well_score = 0\n",
    "\n",
    "# find the well with least missing columns\n",
    "for well in well_names:\n",
    "    well_df = df[df[\"WELL\"] == well]\n",
    "    well_df = well_df[columns]\n",
    "    well_df = well_df.dropna()\n",
    "    score = len(well_df)\n",
    "    if score > best_well_score:\n",
    "        best_well = well\n",
    "        best_well_score = score"
   ]
  },
  {
   "cell_type": "code",
   "execution_count": 4,
   "metadata": {},
   "outputs": [
    {
     "data": {
      "text/plain": [
       "'30/6-5'"
      ]
     },
     "execution_count": 4,
     "metadata": {},
     "output_type": "execute_result"
    }
   ],
   "source": [
    "best_well"
   ]
  },
  {
   "cell_type": "code",
   "execution_count": 5,
   "metadata": {},
   "outputs": [],
   "source": [
    "#  pick a well\n",
    "well_original = df[df['WELL'] == '30/6-5']"
   ]
  },
  {
   "cell_type": "code",
   "execution_count": 6,
   "metadata": {},
   "outputs": [
    {
     "data": {
      "text/plain": [
       "(21636, 8)"
      ]
     },
     "execution_count": 6,
     "metadata": {},
     "output_type": "execute_result"
    }
   ],
   "source": [
    "# select the columns \n",
    "well = well_original[['DEPTH_MD', 'RDEP', 'RMED', 'RXO','NPHI','RHOB','DRHO','SP']].copy()\n",
    "well.shape"
   ]
  },
  {
   "cell_type": "code",
   "execution_count": 7,
   "metadata": {},
   "outputs": [
    {
     "data": {
      "text/plain": [
       "DEPTH_MD       0\n",
       "RDEP           0\n",
       "RMED           0\n",
       "RXO           93\n",
       "NPHI        4240\n",
       "RHOB        4240\n",
       "DRHO        4240\n",
       "SP             0\n",
       "dtype: int64"
      ]
     },
     "execution_count": 7,
     "metadata": {},
     "output_type": "execute_result"
    }
   ],
   "source": [
    "well.isnull().sum()\n"
   ]
  },
  {
   "cell_type": "code",
   "execution_count": 8,
   "metadata": {},
   "outputs": [],
   "source": [
    "well.dropna(inplace=True)"
   ]
  },
  {
   "attachments": {},
   "cell_type": "markdown",
   "metadata": {},
   "source": [
    "## Archie's Equation"
   ]
  },
  {
   "cell_type": "code",
   "execution_count": 9,
   "metadata": {},
   "outputs": [
    {
     "name": "stdout",
     "output_type": "stream",
     "text": [
      "Overall water content: 99.95%\n"
     ]
    }
   ],
   "source": [
    "# Get the necessary logs\n",
    "RDEP = well[\"RDEP\"]\n",
    "RMED = well[\"RMED\"]\n",
    "RXO = well[\"RXO\"]\n",
    "NPHI = well[\"NPHI\"]\n",
    "RHOB = well[\"RHOB\"]\n",
    "DRHO = well[\"DRHO\"]\n",
    "SP = well[\"SP\"]\n",
    "\n",
    "\n",
    "# Define the constants\n",
    "Rw = np.exp(2.25 - 0.75 * np.log10(SP))\n",
    "n = 2.0  # cementation exponent\n",
    "a = 1.0  # saturation exponent\n",
    "m = 2.0  # formation factor exponent\n",
    "\n",
    "# Calculate the effective porosity\n",
    "phi = (NPHI - DRHO) / (1 - DRHO)\n",
    "\n",
    "# Calculate the true resistivity of the formation\n",
    "Rt = np.where(RMED > 0, RMED, RDEP)\n",
    "Rt = np.where(RXO > 0, RXO, Rt)\n",
    "\n",
    "# Apply Archie's equation to calculate the water saturation\n",
    "Sw = ((a*Rw)/(phi**n * Rt))**(1/m)\n",
    "\n",
    "# Calculate the water content\n",
    "water_content = Sw * 100\n",
    "\n",
    "# Limit the water content to a maximum of 100%\n",
    "water_content = np.where(water_content > 100, 100, water_content)\n",
    "\n",
    "water_content_copy = water_content.copy()\n",
    "# drop nan values\n",
    "water_content_copy = water_content_copy[~np.isnan(water_content_copy)]\n",
    "\n",
    "overall_water_content = np.mean(water_content_copy)\n",
    "\n",
    "# # Print the results\n",
    "# print(\"Depth (m)    Water Content (%)\")\n",
    "# for depth, wc in zip(well[\"DEPTH_MD\"], water_content):\n",
    "#     print(\"{:.2f}    {:.2f}\".format(depth, wc))\n",
    "\n",
    "print(\"Overall water content: {:.2f}%\".format(overall_water_content))\n"
   ]
  },
  {
   "cell_type": "code",
   "execution_count": 10,
   "metadata": {},
   "outputs": [
    {
     "name": "stdout",
     "output_type": "stream",
     "text": [
      "Well depth range: 2646.47\n"
     ]
    }
   ],
   "source": [
    "well_depth = well[\"DEPTH_MD\"].max() - well[\"DEPTH_MD\"].min()\n",
    "print(\"Well depth range: {:.2f}\".format(well_depth))"
   ]
  },
  {
   "cell_type": "code",
   "execution_count": 11,
   "metadata": {},
   "outputs": [
    {
     "data": {
      "text/plain": [
       "1.4189128693216961"
      ]
     },
     "execution_count": 11,
     "metadata": {},
     "output_type": "execute_result"
    }
   ],
   "source": [
    "(1 - overall_water_content/100) * well_depth"
   ]
  },
  {
   "attachments": {},
   "cell_type": "markdown",
   "metadata": {},
   "source": [
    "This means that 0.05% of the well isn't water, which can contain oil or gas and according to the well depth we can expect the oil to exist in a part of 1.4 meter (which is not bad)"
   ]
  },
  {
   "attachments": {},
   "cell_type": "markdown",
   "metadata": {},
   "source": [
    "To find the exact spots:"
   ]
  },
  {
   "cell_type": "code",
   "execution_count": 12,
   "metadata": {},
   "outputs": [
    {
     "name": "stdout",
     "output_type": "stream",
     "text": [
      "Depth (m)    Water Content (%)\n",
      "902.16    39.85\n",
      "902.31    63.09\n",
      "902.47    87.01\n",
      "902.62    85.47\n",
      "2510.32    82.30\n",
      "2630.71    84.26\n",
      "2637.24    74.71\n",
      "2739.39    85.51\n",
      "2836.36    88.46\n",
      "2836.51    76.82\n",
      "3019.07    58.05\n",
      "3019.22    41.67\n",
      "3019.52    88.03\n",
      "3019.67    88.49\n",
      "3241.90    76.21\n",
      "3242.05    64.46\n",
      "3242.20    63.74\n",
      "3242.35    65.13\n",
      "3243.87    60.53\n",
      "3244.03    64.12\n",
      "3244.18    68.84\n",
      "3244.33    63.89\n",
      "3244.48    62.20\n",
      "3244.63    66.99\n",
      "3244.79    68.00\n",
      "3244.94    64.90\n",
      "3245.09    67.28\n",
      "3245.24    73.18\n",
      "3245.39    83.47\n"
     ]
    }
   ],
   "source": [
    "# print the depths with water content less than 50%\n",
    "print(\"Depth (m)    Water Content (%)\")\n",
    "for depth, wc in zip(well[\"DEPTH_MD\"], water_content):\n",
    "    if wc < 90:\n",
    "        print(\"{:.2f}    {:.2f}\".format(depth, wc))"
   ]
  },
  {
   "cell_type": "code",
   "execution_count": 13,
   "metadata": {},
   "outputs": [
    {
     "data": {
      "text/plain": [
       "DEPTH_MD        0\n",
       "RDEP            0\n",
       "RHOB         4240\n",
       "DRHO         4240\n",
       "RSHA           93\n",
       "SP              0\n",
       "LITHOLOGY       0\n",
       "dtype: int64"
      ]
     },
     "execution_count": 13,
     "metadata": {},
     "output_type": "execute_result"
    }
   ],
   "source": [
    "well_original[[\"DEPTH_MD\", \"RDEP\",  \"RHOB\", \"DRHO\", 'RSHA',\"SP\",'LITHOLOGY']].isnull().sum()"
   ]
  },
  {
   "cell_type": "code",
   "execution_count": 14,
   "metadata": {},
   "outputs": [],
   "source": [
    "# we can use our model to predict the lithology of these points\n",
    "import pickle\n",
    "model = pickle.load(open(\"model.pkl\", \"rb\"))\n",
    "\n",
    "from sklearn.ensemble import RandomForestClassifier\n",
    "\n",
    "points = well_original[[\"DEPTH_MD\", \"RDEP\",  \"RHOB\", \"DRHO\", 'RSHA',\"SP\",\"GR\",'LITHOLOGY']].copy()\n",
    "points = points.dropna()\n",
    "\n",
    "from utils import rename_columns\n",
    "\n",
    "rename_columns(points)\n"
   ]
  },
  {
   "cell_type": "code",
   "execution_count": 15,
   "metadata": {},
   "outputs": [],
   "source": [
    "points['LITHOLOGY'] = points['LITHOLOGY'].map({30000: 0,    65030: 1,    65000: 2,    80000: 3,\n",
    "                                                         74000: 4,    70000: 5,    70032: 6,    88000: 7,    86000: 8,    99000: 9,    90000: 10,    93000: 11,\n",
    "                                                         })"
   ]
  },
  {
   "cell_type": "code",
   "execution_count": 16,
   "metadata": {},
   "outputs": [],
   "source": [
    "lithology_map = {\n",
    "    0: 'Sandstone',\n",
    "    1: 'Sandstone/Shale',\n",
    "    2: 'Shale',\n",
    "    3: 'Marl',\n",
    "    4: 'Dolomite',\n",
    "    5: 'Limestone',\n",
    "    6: 'Chalk',\n",
    "    7: 'Halite',\n",
    "    8: 'Anhydrite',\n",
    "    9: 'Tuff',\n",
    "    10: 'Coal',\n",
    "    11: 'Basement'\n",
    "}"
   ]
  },
  {
   "cell_type": "code",
   "execution_count": 17,
   "metadata": {},
   "outputs": [
    {
     "name": "stdout",
     "output_type": "stream",
     "text": [
      "902.16    Limestone\n",
      "902.31    Limestone\n",
      "902.47    Limestone\n",
      "902.62    Limestone\n",
      "2510.32    Sandstone\n",
      "2630.71    Sandstone\n",
      "2637.24    Sandstone\n",
      "2739.39    Limestone\n",
      "2836.36    Sandstone\n",
      "2836.51    Sandstone\n",
      "3019.07    Chalk\n",
      "3019.22    Chalk\n",
      "3019.52    Chalk\n",
      "3019.67    Chalk\n",
      "3241.90    Chalk\n",
      "3242.05    Chalk\n",
      "3242.20    Chalk\n",
      "3242.35    Chalk\n",
      "3243.87    Chalk\n",
      "3244.03    Chalk\n",
      "3244.18    Chalk\n",
      "3244.33    Chalk\n",
      "3244.48    Chalk\n",
      "3244.63    Chalk\n",
      "3244.79    Chalk\n",
      "3244.94    Chalk\n",
      "3245.09    Chalk\n",
      "3245.24    Chalk\n",
      "3245.39    Chalk\n"
     ]
    }
   ],
   "source": [
    "# predicte the lithology at the points with water content less than 50%\n",
    "for depth, wc in zip(well[\"DEPTH_MD\"], water_content):\n",
    "    if wc < 90:\n",
    "        point = points[points['Measured Depth'] == depth]\n",
    "        point = point.dropna()\n",
    "        point = point.drop(columns=['Measured Depth', \"LITHOLOGY\"])\n",
    "        lithology = model.predict(point)\n",
    "        #  map the lithology to the lithology name\n",
    "        lithology = lithology_map[lithology[0]]\n",
    "        print(\"{:.2f}    {}\".format(depth, lithology))"
   ]
  },
  {
   "attachments": {},
   "cell_type": "markdown",
   "metadata": {},
   "source": [
    "The ones with sandstone are the most likely to find hydrocarbons in "
   ]
  }
 ],
 "metadata": {
  "kernelspec": {
   "display_name": "base",
   "language": "python",
   "name": "python3"
  },
  "language_info": {
   "codemirror_mode": {
    "name": "ipython",
    "version": 3
   },
   "file_extension": ".py",
   "mimetype": "text/x-python",
   "name": "python",
   "nbconvert_exporter": "python",
   "pygments_lexer": "ipython3",
   "version": "3.10.9"
  },
  "orig_nbformat": 4
 },
 "nbformat": 4,
 "nbformat_minor": 2
}
