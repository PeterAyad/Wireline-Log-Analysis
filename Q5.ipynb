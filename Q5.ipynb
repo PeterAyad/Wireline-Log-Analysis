{
 "cells": [
  {
   "attachments": {},
   "cell_type": "markdown",
   "metadata": {},
   "source": [
    "# Q5: Can we predict lithology accurately based on wireline well logs data?\n",
    "    a. Train machine learning models using wireline well logs data\n",
    "    B. Compare the accuracy of the models.\n",
    "\n",
    "**Purpose of the question**: classify the layers of lithology in the well to find the sandstone"
   ]
  },
  {
   "cell_type": "code",
   "execution_count": 1,
   "metadata": {},
   "outputs": [],
   "source": [
    "import lasio\n",
    "import pandas as pd\n",
    "import missingno as msno\n",
    "import seaborn as sns\n",
    "import matplotlib.pyplot as plt\n",
    "import numpy as np\n",
    "import plotly.express as px\n",
    "from utils import *\n",
    "import warnings\n",
    "from sklearn.preprocessing import StandardScaler\n",
    "from sklearn.linear_model import LogisticRegression\n",
    "from sklearn.svm import SVC\n",
    "from sklearn.ensemble import RandomForestClassifier\n",
    "from sklearn.metrics import accuracy_score, confusion_matrix, classification_report\n",
    "\n",
    "\n",
    "warnings.filterwarnings(\"ignore\")"
   ]
  },
  {
   "cell_type": "code",
   "execution_count": 2,
   "metadata": {},
   "outputs": [],
   "source": [
    "df = pd.read_csv(\"./Data/labeled_logs.csv\")\n",
    "rename_columns(df)\n",
    "resistivity_to_log10(df)"
   ]
  },
  {
   "cell_type": "code",
   "execution_count": 3,
   "metadata": {},
   "outputs": [],
   "source": [
    "df = df.drop(\n",
    "    [\n",
    "        My_Columns.FORMATION,\n",
    "        My_Columns.GROUP,\n",
    "        My_Columns.WELL,\n",
    "        My_Columns.X_LOC,\n",
    "        My_Columns.Y_LOC,\n",
    "        My_Columns.Z_LOC,\n",
    "        My_Columns.WELL,\n",
    "        My_Columns.CONFIDENCE,\n",
    "        My_Columns.SPECTRA_GAMMA_RAY,\n",
    "        My_Columns.AVERAGE_RATE_OF_PENETRATION,\n",
    "        My_Columns.MICRO_RESISTIVITY,\n",
    "        My_Columns.WEIGHT_OF_DRILLING_MUD,\n",
    "        My_Columns.FLUSHED_ZONE_RESISTIVITY,\n",
    "        My_Columns.DIFFERENTIAL_CALIPER,\n",
    "        My_Columns.SHEAR_WAVE_SONIC,\n",
    "    ],\n",
    "    axis=1,\n",
    ")\n",
    "df.isnull().sum()\n",
    "df = df.dropna()"
   ]
  },
  {
   "cell_type": "code",
   "execution_count": 4,
   "metadata": {},
   "outputs": [
    {
     "data": {
      "text/plain": [
       "(Index(['Measured Depth', 'Caliper', 'Shallow Resistivity',\n",
       "        'Medium Deep Resistivity', 'Deep Resistivity', 'Bulk Density',\n",
       "        'Gamma Ray', 'Neutron Porosity', 'Photo Electric Factor',\n",
       "        'Compressional waves sonic', 'Self Potential', 'Borehole Size',\n",
       "        'Rate of Penetration', 'Density Correction', 'LITHOLOGY'],\n",
       "       dtype='object'),\n",
       " 15)"
      ]
     },
     "execution_count": 4,
     "metadata": {},
     "output_type": "execute_result"
    }
   ],
   "source": [
    "df.columns, len(df.columns)\n"
   ]
  },
  {
   "cell_type": "code",
   "execution_count": 5,
   "metadata": {},
   "outputs": [],
   "source": [
    "rename_lithology(df)\n",
    "lithology_to_class(df)"
   ]
  },
  {
   "cell_type": "code",
   "execution_count": 6,
   "metadata": {},
   "outputs": [],
   "source": [
    "from sklearn.model_selection import train_test_split\n",
    "\n",
    "train, test = train_test_split(df, test_size=0.2, random_state=42)\n",
    "\n",
    "train_X = train.drop([My_Columns.LITHOLOGY], axis=1)\n",
    "train_Y = train[My_Columns.LITHOLOGY]\n",
    "\n",
    "test_X = test.drop([My_Columns.LITHOLOGY], axis=1)\n",
    "test_Y = test[My_Columns.LITHOLOGY]\n"
   ]
  },
  {
   "cell_type": "code",
   "execution_count": 7,
   "metadata": {},
   "outputs": [
    {
     "data": {
      "text/html": [
       "<div>\n",
       "<style scoped>\n",
       "    .dataframe tbody tr th:only-of-type {\n",
       "        vertical-align: middle;\n",
       "    }\n",
       "\n",
       "    .dataframe tbody tr th {\n",
       "        vertical-align: top;\n",
       "    }\n",
       "\n",
       "    .dataframe thead th {\n",
       "        text-align: right;\n",
       "    }\n",
       "</style>\n",
       "<table border=\"1\" class=\"dataframe\">\n",
       "  <thead>\n",
       "    <tr style=\"text-align: right;\">\n",
       "      <th></th>\n",
       "      <th>Measured Depth</th>\n",
       "      <th>Caliper</th>\n",
       "      <th>Shallow Resistivity</th>\n",
       "      <th>Medium Deep Resistivity</th>\n",
       "      <th>Deep Resistivity</th>\n",
       "      <th>Bulk Density</th>\n",
       "      <th>Gamma Ray</th>\n",
       "      <th>Neutron Porosity</th>\n",
       "      <th>Photo Electric Factor</th>\n",
       "      <th>Compressional waves sonic</th>\n",
       "      <th>Self Potential</th>\n",
       "      <th>Borehole Size</th>\n",
       "      <th>Rate of Penetration</th>\n",
       "      <th>Density Correction</th>\n",
       "    </tr>\n",
       "  </thead>\n",
       "  <tbody>\n",
       "    <tr>\n",
       "      <th>409931</th>\n",
       "      <td>1332.542400</td>\n",
       "      <td>12.657820</td>\n",
       "      <td>-0.063526</td>\n",
       "      <td>-0.131539</td>\n",
       "      <td>-0.209502</td>\n",
       "      <td>2.116763</td>\n",
       "      <td>91.904930</td>\n",
       "      <td>0.995263</td>\n",
       "      <td>10.661796</td>\n",
       "      <td>2.149468</td>\n",
       "      <td>-233.182571</td>\n",
       "      <td>12.250001</td>\n",
       "      <td>37.471474</td>\n",
       "      <td>-0.004245</td>\n",
       "    </tr>\n",
       "    <tr>\n",
       "      <th>306235</th>\n",
       "      <td>3439.112000</td>\n",
       "      <td>9.238626</td>\n",
       "      <td>0.832998</td>\n",
       "      <td>0.658911</td>\n",
       "      <td>0.686044</td>\n",
       "      <td>2.565505</td>\n",
       "      <td>91.702042</td>\n",
       "      <td>0.264772</td>\n",
       "      <td>8.612202</td>\n",
       "      <td>1.933798</td>\n",
       "      <td>240.597031</td>\n",
       "      <td>8.500000</td>\n",
       "      <td>35.261501</td>\n",
       "      <td>0.143808</td>\n",
       "    </tr>\n",
       "    <tr>\n",
       "      <th>463860</th>\n",
       "      <td>3083.552199</td>\n",
       "      <td>9.093799</td>\n",
       "      <td>0.556097</td>\n",
       "      <td>0.522212</td>\n",
       "      <td>0.346094</td>\n",
       "      <td>2.523961</td>\n",
       "      <td>110.023872</td>\n",
       "      <td>0.385514</td>\n",
       "      <td>3.721776</td>\n",
       "      <td>1.961045</td>\n",
       "      <td>60.566254</td>\n",
       "      <td>8.500000</td>\n",
       "      <td>4.761444</td>\n",
       "      <td>0.127706</td>\n",
       "    </tr>\n",
       "    <tr>\n",
       "      <th>1195248</th>\n",
       "      <td>1413.566400</td>\n",
       "      <td>12.468761</td>\n",
       "      <td>0.009207</td>\n",
       "      <td>-0.018151</td>\n",
       "      <td>-0.008808</td>\n",
       "      <td>2.188227</td>\n",
       "      <td>99.009926</td>\n",
       "      <td>0.418006</td>\n",
       "      <td>5.115295</td>\n",
       "      <td>2.149380</td>\n",
       "      <td>-107.000000</td>\n",
       "      <td>12.250001</td>\n",
       "      <td>34.179344</td>\n",
       "      <td>-0.053228</td>\n",
       "    </tr>\n",
       "    <tr>\n",
       "      <th>1197374</th>\n",
       "      <td>1736.718400</td>\n",
       "      <td>12.386744</td>\n",
       "      <td>-0.138125</td>\n",
       "      <td>-0.223501</td>\n",
       "      <td>-0.214643</td>\n",
       "      <td>2.201126</td>\n",
       "      <td>73.900574</td>\n",
       "      <td>0.464747</td>\n",
       "      <td>3.182544</td>\n",
       "      <td>2.148671</td>\n",
       "      <td>-97.545929</td>\n",
       "      <td>12.250001</td>\n",
       "      <td>44.669052</td>\n",
       "      <td>-0.063741</td>\n",
       "    </tr>\n",
       "  </tbody>\n",
       "</table>\n",
       "</div>"
      ],
      "text/plain": [
       "         Measured Depth    Caliper  Shallow Resistivity  \\\n",
       "409931      1332.542400  12.657820            -0.063526   \n",
       "306235      3439.112000   9.238626             0.832998   \n",
       "463860      3083.552199   9.093799             0.556097   \n",
       "1195248     1413.566400  12.468761             0.009207   \n",
       "1197374     1736.718400  12.386744            -0.138125   \n",
       "\n",
       "         Medium Deep Resistivity  Deep Resistivity  Bulk Density   Gamma Ray  \\\n",
       "409931                 -0.131539         -0.209502      2.116763   91.904930   \n",
       "306235                  0.658911          0.686044      2.565505   91.702042   \n",
       "463860                  0.522212          0.346094      2.523961  110.023872   \n",
       "1195248                -0.018151         -0.008808      2.188227   99.009926   \n",
       "1197374                -0.223501         -0.214643      2.201126   73.900574   \n",
       "\n",
       "         Neutron Porosity  Photo Electric Factor  Compressional waves sonic  \\\n",
       "409931           0.995263              10.661796                   2.149468   \n",
       "306235           0.264772               8.612202                   1.933798   \n",
       "463860           0.385514               3.721776                   1.961045   \n",
       "1195248          0.418006               5.115295                   2.149380   \n",
       "1197374          0.464747               3.182544                   2.148671   \n",
       "\n",
       "         Self Potential  Borehole Size  Rate of Penetration  \\\n",
       "409931      -233.182571      12.250001            37.471474   \n",
       "306235       240.597031       8.500000            35.261501   \n",
       "463860        60.566254       8.500000             4.761444   \n",
       "1195248     -107.000000      12.250001            34.179344   \n",
       "1197374      -97.545929      12.250001            44.669052   \n",
       "\n",
       "         Density Correction  \n",
       "409931            -0.004245  \n",
       "306235             0.143808  \n",
       "463860             0.127706  \n",
       "1195248           -0.053228  \n",
       "1197374           -0.063741  "
      ]
     },
     "execution_count": 7,
     "metadata": {},
     "output_type": "execute_result"
    }
   ],
   "source": [
    "train_X.head()\n"
   ]
  },
  {
   "cell_type": "code",
   "execution_count": 8,
   "metadata": {},
   "outputs": [
    {
     "data": {
      "text/plain": [
       "409931     4\n",
       "306235     4\n",
       "463860     4\n",
       "1195248    4\n",
       "1197374    4\n",
       "Name: LITHOLOGY, dtype: int64"
      ]
     },
     "execution_count": 8,
     "metadata": {},
     "output_type": "execute_result"
    }
   ],
   "source": [
    "train_Y.head()\n"
   ]
  },
  {
   "cell_type": "code",
   "execution_count": 9,
   "metadata": {},
   "outputs": [],
   "source": [
    "scaler = StandardScaler()\n",
    "train_X = scaler.fit_transform(train_X)\n",
    "test_X = scaler.transform(test_X)\n"
   ]
  },
  {
   "cell_type": "code",
   "execution_count": 10,
   "metadata": {},
   "outputs": [
    {
     "name": "stdout",
     "output_type": "stream",
     "text": [
      "Accuracy:  0.8645216727133855\n"
     ]
    }
   ],
   "source": [
    "lr = LogisticRegression()\n",
    "lr.fit(train_X, train_Y)\n",
    "\n",
    "print(\"Accuracy: \", accuracy_score(test_Y, lr.predict(test_X)))\n"
   ]
  },
  {
   "cell_type": "code",
   "execution_count": 11,
   "metadata": {},
   "outputs": [
    {
     "name": "stdout",
     "output_type": "stream",
     "text": [
      "Accuracy:  0.9558907771624976\n"
     ]
    }
   ],
   "source": [
    "svc = SVC(kernel=\"rbf\", C=1000)\n",
    "svc.fit(train_X, train_Y)\n",
    "\n",
    "print(\"Accuracy: \", accuracy_score(test_Y, svc.predict(test_X)))\n"
   ]
  },
  {
   "cell_type": "code",
   "execution_count": 12,
   "metadata": {},
   "outputs": [
    {
     "name": "stdout",
     "output_type": "stream",
     "text": [
      "Accuracy:  0.9633377888103877\n"
     ]
    }
   ],
   "source": [
    "rf = RandomForestClassifier(n_estimators=100)\n",
    "rf.fit(train_X, train_Y)\n",
    "\n",
    "print(\"Accuracy: \", accuracy_score(test_Y, rf.predict(test_X)))\n"
   ]
  }
 ],
 "metadata": {
  "kernelspec": {
   "display_name": "base",
   "language": "python",
   "name": "python3"
  },
  "language_info": {
   "codemirror_mode": {
    "name": "ipython",
    "version": 3
   },
   "file_extension": ".py",
   "mimetype": "text/x-python",
   "name": "python",
   "nbconvert_exporter": "python",
   "pygments_lexer": "ipython3",
   "version": "3.10.9"
  },
  "orig_nbformat": 4
 },
 "nbformat": 4,
 "nbformat_minor": 2
}
